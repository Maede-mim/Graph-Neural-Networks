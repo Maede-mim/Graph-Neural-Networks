{
 "cells": [
  {
   "cell_type": "markdown",
   "id": "5a469769",
   "metadata": {},
   "source": [
    "![](images/CausalGraphLearning.png)\n",
    "%%HTML\n",
    "<script src=\"require.js\"></script>"
   ]
  },
  {
   "cell_type": "markdown",
   "id": "c06d6a20",
   "metadata": {},
   "source": [
    "# Introduction to the Course\n",
    "\n",
    "**Maede Mohammadi, Spring 2025**\n",
    "\n",
    "Computer Science Dept, Ferdowsi University of Mashhad\n",
    "\n",
    "I should mention that the original material was from  [Dana Mackenzie, Judea Pearl](https://www.youtube.com/watch?v=AStrI3FhMWg&pp=ygUJI2dubmdydXBz).\n",
    "And also one of the best Iranian datascience experts who is producing content in this feild [Shahin Talebi](https://medium.com/@shawhin?source=post_page---byline--f8a3f6ac4c4a---------------------------------------)\n"
   ]
  },
  {
   "cell_type": "markdown",
   "id": "2e9dbcc3",
   "metadata": {},
   "source": [
    "## About the Course\n",
    "<hr>"
   ]
  },
  {
   "cell_type": "markdown",
   "id": "46efd9c2",
   "metadata": {},
   "source": [
    "- **Lectures 2-3**: prerequesties that you need about causality (causality , graph, DAGs, SEM , SCM)\n",
    "- **Lectures 4-5**: review DAGs with NOTEARS paper (Introduction, score function, optimization, etc.)\n",
    "\n",
    "This course will provide a strong foundation in causality, focusing on understanding how variables influence each other through directed graphs. You'll learn to interpret, construct, and apply causal graphs for effective causal inference and causal structure learning from data. \n",
    "\n",
    "<!-- We will progressively build our computational intelligence skills from understanding optimization algorithms like gradient descent, to building convolutional neural networks for image classification, and even creating generative adversarial networks (GANs) for synthetic image generation! This course will also lay the foundation for the more advanced topics you'll be exploring in DSCI 575 (Advanced Machine Learning), like recurrent neural networks. -->\n",
    "\n",
    "Along the way, I'll include and reference additional material in appendices that dive into some topics in more detail. These are **completely optional** and are there for those who wish to learn more about a particular topic."
   ]
  },
  {
   "cell_type": "markdown",
   "id": "e8e464d6",
   "metadata": {},
   "source": [
    "### Course Tools"
   ]
  },
  {
   "cell_type": "markdown",
   "id": "bc6f58ac",
   "metadata": {},
   "source": [
    "The course will use Python and [PyTorch](https://pytorch.org/) as the deep learning software. Course material will be predominantly in Jupyter notebooks. Everything has been compiled into a Jupyter book and the materials are accesible from the [Github of the course](https://github.com/fum-cs/neural-networks).\n",
    "\n",
    "<!-- You can install all the software you need for the course using conda:\n",
    "\n",
    "```sh\n",
    "conda env create -f mds572.yaml\n",
    "``` -->"
   ]
  },
  {
   "cell_type": "markdown",
   "id": "e08f89dc",
   "metadata": {},
   "source": []
  }
 ],
 "metadata": {
  "language_info": {
   "name": "python"
  }
 },
 "nbformat": 4,
 "nbformat_minor": 5
}
