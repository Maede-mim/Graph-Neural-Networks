{
 "cells": [
  {
   "cell_type": "markdown",
   "id": "122abb12",
   "metadata": {},
   "source": [
    "# Optimization"
   ]
  }
 ],
 "metadata": {
  "kernelspec": {
   "display_name": "Python 3",
   "language": "python",
   "name": "python3"
  },
  "language_info": {
   "name": "python",
   "version": "3.11.5"
  }
 },
 "nbformat": 4,
 "nbformat_minor": 5
}
