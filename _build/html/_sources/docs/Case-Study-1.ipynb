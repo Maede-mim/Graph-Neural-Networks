{
 "cells": [
  {
   "cell_type": "markdown",
   "id": "b13095d1",
   "metadata": {},
   "source": [
    "![](images/fum-gnn-logo.png)\n",
    "%%HTML\n",
    "<script src=\"require.js\"></script>"
   ]
  },
  {
   "cell_type": "markdown",
   "id": "c414bdfc",
   "metadata": {},
   "source": [
    "# Case-Study-1"
   ]
  },
  {
   "cell_type": "markdown",
   "id": "475ab603",
   "metadata": {},
   "source": [
    "# Dynamic Graph-Neural-Networks-Learning"
   ]
  }
 ],
 "metadata": {
  "kernelspec": {
   "display_name": "base",
   "language": "python",
   "name": "python3"
  },
  "language_info": {
   "name": "python",
   "version": "3.12.7"
  }
 },
 "nbformat": 4,
 "nbformat_minor": 5
}
