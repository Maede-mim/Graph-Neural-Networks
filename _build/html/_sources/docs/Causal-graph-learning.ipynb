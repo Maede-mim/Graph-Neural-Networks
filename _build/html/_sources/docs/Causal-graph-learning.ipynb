{
 "cells": [
  {
   "cell_type": "markdown",
   "id": "e64c8f97",
   "metadata": {},
   "source": [
    "![](images/CausalGraphLearning.png)\n",
    "%%HTML\n",
    "<script src=\"require.js\"></script>"
   ]
  },
  {
   "cell_type": "markdown",
   "id": "f024683b",
   "metadata": {},
   "source": [
    "# Causality Graph Learning with Graph Neural Networks"
   ]
  },
  {
   "cell_type": "markdown",
   "id": "41da439c",
   "metadata": {},
   "source": [
    "## Introduction\n",
    "Graph Neural Networks (GNNs) are a class of deep learning models designed to operate on graph-structured data. In the context of causality, GNNs are powerful tools for uncovering the underlying causal structures among variables, which are represented as nodes in a graph. Unlike correlation-based models, GNNs aim to model the directed relationships that signify cause-effect mechanisms."
   ]
  },
  {
   "cell_type": "markdown",
   "id": "97dac1c7",
   "metadata": {},
   "source": [
    "# Causality"
   ]
  },
  {
   "cell_type": "markdown",
   "id": "728988df",
   "metadata": {},
   "source": [
    "Before diving into mathematically representing causality, we should answer a deeper question: what is causality? Causality goes beyond correlation or statistical dependency to describe the causal connections of a system.\n",
    "\n",
    "A variable, X, can be said to cause another variable, Y, if when all confounders are adjusted, an intervention in X results in a change in Y, but an intervention in Y does not necessarily result in a change in X [1]"
   ]
  },
  {
   "cell_type": "markdown",
   "id": "0b897032",
   "metadata": {},
   "source": [
    "<div style=\"text-align: center;\">\n",
    "  <img src=\"images/WHY.png\" alt=\"Book Cover\" />\n",
    "</div>\n",
    "<script src=\"require.js\"></script>\n",
    "\n",
    "%%HTML"
   ]
  },
  {
   "cell_type": "markdown",
   "id": "26c98250",
   "metadata": {},
   "source": [
    "<div dir=\"rtl\" markdown=\"1\">\n",
    "\n",
    "چرا یک موز روی صفحه نمایش وجود دارد؟\n",
    "چرا روی این ویدیوی یوتیوب کلیک کردم؟\n",
    "چرا؟\n",
    "چرا این اتفاق افتاد و علت آن چیست؟\n",
    "این اتفاق به کجا می‌رسد و چه تأثیری دارد؟\n",
    "\n",
    "از خود بپرسید: «چرا؟» — این سؤال به ما کمک می‌کند تا داستان‌ها و روایت‌هایی بسازیم که به ما در فهم جهان کمک کنند. حتی اگر گاهی این درک و استدلال یکی از قدرتمندترین ابزارهایمان در آمار باشد، اغلب از لحاظ برخورد با رابطهٔ علت و معلول ناکافی است.\n",
    "\n",
    "آنچه سعی دارم برجسته کنم، همین سوال ها و به اصطلاح  \"علیت\"  هستند.\n"
   ]
  },
  {
   "cell_type": "markdown",
   "id": "c6e2f719",
   "metadata": {},
   "source": [
    "<div dir=\"rtl\" markdown=\"1\">\n",
    "\n",
    "علیت به رابطه‌ی سببی میان دو یا چند پدیده گفته می‌شود؛ یعنی یکی (علت) باعث بروز دیگری (معلول) می‌شود. فهمیدن علیت اهمیت دارد چون به ما کمک می‌کند تا دلایل واقعی رویدادها، تأثیرات مداخلات و راه‌های مؤثر برای بهبود وضعیت‌های مختلف را درک کنیم. بدون درک صحیح علیت، تحلیل‌های داده‌ای ممکن است گمراه‌کننده باشد و نتایج نادرستی ارائه دهند، زیرا همبستگی لزوماً نشان‌دهنده رابطه‌ی سببی نیست."
   ]
  },
  {
   "cell_type": "markdown",
   "id": "572a204d",
   "metadata": {},
   "source": [
    "<div dir=\"rtl\" markdown=\"1\">\n",
    "\n",
    "\n",
    "ایده علیت به ما کمک می‌کند تا رابطه بین علت و معلول را بهتر درک کنیم. روش‌های آماری سنتی در این زمینه ناکافی هستند و نیاز به رویکردهای جدید داریم.\n",
    "کتاب «کتاب چرا» نوشته یودا پرل، منبع خوبی برای درک بهتر علیت و روابط پیچیده است.\n",
    "\n",
    "![](images/THE-BOOK-OF-WHY.jpg)\n",
    "%%HTML\n",
    "<script src=\"require.js\"></script>\n",
    " این کتاب برای عموم ارائه شده و نیز قابل دسترسی است.\n",
    "درک علل و نتایج در زندگی روزمره برای ما بسیار طبیعی است و به ما کمک می‌کند تا داستان‌ها و روایت‌هایی از دنیای اطراف بسازیم.\n",
    "سه دام آماری که می‌تواند باعث سوءتفاهم در تحلیل‌های علیت شود، شامل همبستگی‌های کاذب است. این همبستگی‌ها هیچ ارتباط علی بین دو پدیده را نشان نمی‌دهند."
   ]
  },
  {
   "cell_type": "markdown",
   "id": "21f8ab61",
   "metadata": {},
   "source": [
    "<div dir=\"rtl\" markdown=\"1\">\n",
    "  مفهوم همبستگی و عدم همبستگی در داده‌ها اهمیت بسیاری دارد. این نکته به ما یادآوری می‌کند که همبستگی به معنای علیت نیست.   "
   ]
  },
  {
   "cell_type": "markdown",
   "id": "e8f2b556",
   "metadata": {},
   "source": [
    "<div dir=\"ltr\" markdown=\"1\">\n",
    "\n",
    "## Mathematical Foundation\n",
    "Consider a causal graph \\( G = (V, E) \\), where \\( V \\) is the set of variables (nodes) and \\( E \\) is the set of directed causal edges. A GNN propagates and aggregates information through layers using functions like:\n",
    "\n",
    "$\n",
    "h_v^{(k)} = \\sigma \\left( \\sum_{u \\in \\mathcal{N}(v)} W^{(k)} h_u^{(k-1)} + b^{(k)} \\right),\n",
    "$\n",
    "\n",
    "where:\n",
    "- $h_v^{(k)}$ is the node $v$’s embedding at layer $k$,  \n",
    "- $\\mathcal{N}(v)$ is the neighborhood of node $v$,  \n",
    "- $W^{(k)}$ are learnable weights,  \n",
    "- $b^{(k)}$ is a bias term,  \n",
    "- $\\sigma$ is an activation function (e.g., ReLU).\n",
    "\n",
    "This process helps the network learn representations that reflect causal influence.\n"
   ]
  },
  {
   "cell_type": "markdown",
   "id": "e568aede",
   "metadata": {},
   "source": [
    "## An Example in Causality\n",
    "Imagine a chain where smoking \\( S \\) causes lung problems \\( L \\), which then lead to coughing \\( C \\). The causal directions are \\( S \\to L \\to C \\). A GNN, trained on observational data, can learn these relationships by encoding observed correlations and adjusting accordingly to reveal the directionality consistent with causality, not just correlation."
   ]
  },
  {
   "cell_type": "markdown",
   "id": "637f63c7",
   "metadata": {},
   "source": [
    "## Applications\n",
    "Using GNNs for causal graph learning allows us to:\n",
    "- Identify direct causal relationships,\n",
    "- Predict the effect of interventions,\n",
    "- Understand complex cause-effect mechanisms in diverse fields like medicine, economics, and social sciences.\n",
    "\n",
    "This synergy between GNNs and causality provides a robust framework for more reliable and interpretable models beyond simple associations."
   ]
  },
  {
   "cell_type": "markdown",
   "id": "235e2775",
   "metadata": {},
   "source": [
    "<hr>\n",
    "\n",
    "# Structural Causal Models\n",
    "\n",
    " Causality is represented mathematically via Structural Causal Models (SCMs) [5]. The two key elements of SCMs are a graph and a set of equations. More specifically, the graph is a Directed Acyclic Graphs (DAG), and  the set of equations is a Structural Equation Model (SEM).\n",
    "\n",
    "<hr>\n",
    "\n"
   ]
  },
  {
   "cell_type": "markdown",
   "id": "398b7903",
   "metadata": {},
   "source": [
    "## 1.Directed Acyclic Graph(DAG)"
   ]
  },
  {
   "cell_type": "markdown",
   "id": "e090f9ad",
   "metadata": {},
   "source": [
    "DAGs represent causal structure by showing who listens to whom or, more importantly, who doesn’t listen to whom. A DAG is a special kind of graph for which all edges are directed (information flow is in one direction) and no cycles exist (information that leaves a vertex cannot return to it). The vertices (circles) in a causal DAG represent variables and edges (arrows) represent causation, where a variable is directly caused by its parents."
   ]
  },
  {
   "cell_type": "markdown",
   "id": "6b58c164",
   "metadata": {},
   "source": [
    "![](images/dag.png)\n",
    "%%HTML\n",
    "<script src=\"require.js\"></script>"
   ]
  },
  {
   "cell_type": "markdown",
   "id": "b98baabc",
   "metadata": {},
   "source": [
    "## 2.structural equation model (SEM)"
   ]
  },
  {
   "cell_type": "markdown",
   "id": "9f501eb4",
   "metadata": {},
   "source": [
    "\n",
    "\n",
    "**Structural Equation Model (SEM)** is a statistical framework that models complex relationships between observed and latent variables through a system of simultaneous equations. It allows researchers to specify and test causal hypotheses by defining direct and indirect effects among variables. Formally, an SEM consists of a set of equations:\n",
    "\n",
    "\n",
    "\n",
    "SEMs represent relationships between variables. These equations have two peculiarities. First, equations are asymmetric, meaning equality only works in one direction. This has the implication that SEMs cannot be inverted to derive alternative SEM equations. Second, equations can be non-parametric, meaning the functional form is not known.\n",
    "\n",
    "\n",
    "\n",
    "$\n",
    "\\mathbf{Y} = \\boldsymbol{\\Lambda} \\mathbf{Y} + \\boldsymbol{\\Gamma} \\mathbf{X} + \\boldsymbol{\\zeta}\n",
    "$\n",
    "where:\n",
    "$\n",
    "\\begin{aligned}\n",
    "& \\text{where:} \\\\\n",
    "& \\mathbf{Y} \\text{ is a vector of endogenous (dependent) variables,} \\\\\n",
    "& \\mathbf{X} \\text{ is a vector of exogenous (independent) variables,} \\\\\n",
    "& \\boldsymbol{\\Lambda} \\text{ is a matrix of coefficients for relationships among endogenous variables,} \\\\\n",
    "& \\boldsymbol{\\Gamma} \\text{ is a matrix of coefficients linking exogenous variables to endogenous ones,} \\\\\n",
    "& \\boldsymbol{\\zeta} \\text{ is a vector of error terms.}\n",
    "\\end{aligned}\n",
    "$\n",
    "\n",
    "\n",
    "SEM enables the analysis of direct, indirect, and total effects in a causal framework, providing a powerful approach to understanding complex causal structures in social sciences, economics, psychology, and other fields."
   ]
  },
  {
   "cell_type": "markdown",
   "id": "9d3222ae",
   "metadata": {},
   "source": [
    "![](images/dag-equ.png)\n",
    "%%HTML\n",
    "<script src=\"require.js\"></script>"
   ]
  },
  {
   "cell_type": "markdown",
   "id": "f112f226",
   "metadata": {},
   "source": [
    "# Example: Estimating Treatment Effect of Grad School on Income"
   ]
  },
  {
   "cell_type": "markdown",
   "id": "a7fff71f",
   "metadata": {},
   "source": [
    "In this example, we will use the Microsoft DoWhy library for causal inference [3]. The goal is to estimate the causal effect of a graduate degree on making more than $50k annually. Data is obtained from the UCI machine learning repository [4]. Example code and data can be found at the [Github repo](https://github.com/Maede-mim/Causal-Graph-Learning/blob/main/docs/df_causal_inference.p).\n",
    "\n",
    "It is important to stress the starting point of all causal inference is a causal model. Here, we assume income has only two causes: age and education, where age is also a cause of education. Clearly, this simple model may be missing other important factors. We will investigate alternative models in the next post on causal discovery. For now, however, we will focus on this simplified case.\n",
    "\n",
    "First, we load libraries and data. If you do not have the libraries, check out the requirements.txt in the repo."
   ]
  },
  {
   "cell_type": "code",
   "execution_count": 3,
   "id": "fefe852c",
   "metadata": {},
   "outputs": [],
   "source": [
    "# Import libraries\n",
    "import pickle\n",
    "import matplotlib.pyplot as plt\n",
    "import  pandas as pd\n",
    "from IPython.display import Image, display\n",
    "\n",
    "import econml\n",
    "import dowhy\n",
    "from dowhy import CausalModel\n",
    "# Load Data\n",
    "df =pd.read_pickle( open( \"df_causal_inference.p\", \"rb\" ) )"
   ]
  },
  {
   "cell_type": "markdown",
   "id": "b2afb2ff",
   "metadata": {},
   "source": [
    "Again the first step is defining our causal model i.e. DAG. DoWhy makes it easy to create and view models."
   ]
  },
  {
   "cell_type": "code",
   "execution_count": 8,
   "id": "fa83c3e7",
   "metadata": {},
   "outputs": [
    {
     "data": {
      "image/png": "[encoded data removed]",
      "text/plain": [
       "<Figure size 800x600 with 1 Axes>"
      ]
     },
     "metadata": {},
     "output_type": "display_data"
    }
   ],
   "source": [
    "# Define causal model\n",
    "model=CausalModel(data = df,         \n",
    "                  treatment= \"hasGraduateDegree\",         \n",
    "                  outcome= \"greaterThan50k\",         \n",
    "                  common_causes=\"age\",         \n",
    "                  )\n",
    "# View model\n",
    "model.view_model() \n"
   ]
  },
  {
   "cell_type": "markdown",
   "id": "88b2f568",
   "metadata": {},
   "source": [
    "![](images/example.png)\n",
    "%%HTML\n",
    "<script src=\"require.js\"></script>"
   ]
  },
  {
   "cell_type": "markdown",
   "id": "a15ff4d0",
   "metadata": {},
   "source": [
    "Next, we need an estimand. This is basically a recipe that gives us our desired causal effect. In other words, it tells us how to compute the effect of education on income."
   ]
  },
  {
   "cell_type": "code",
   "execution_count": 5,
   "id": "99ffbbf9",
   "metadata": {},
   "outputs": [
    {
     "name": "stdout",
     "output_type": "stream",
     "text": [
      "Estimand type: EstimandType.NONPARAMETRIC_ATE\n",
      "\n",
      "### Estimand : 1\n",
      "Estimand name: backdoor\n",
      "Estimand expression:\n",
      "         d                                 \n",
      "────────────────────(E[greaterThan50k|age])\n",
      "d[hasGraduateDegree]                       \n",
      "Estimand assumption 1, Unconfoundedness: If U→{hasGraduateDegree} and U→greaterThan50k then P(greaterThan50k|hasGraduateDegree,age,U) = P(greaterThan50k|hasGraduateDegree,age)\n",
      "\n",
      "### Estimand : 2\n",
      "Estimand name: iv\n",
      "No such variable(s) found!\n",
      "\n",
      "### Estimand : 3\n",
      "Estimand name: frontdoor\n",
      "No such variable(s) found!\n",
      "\n"
     ]
    }
   ],
   "source": [
    "# Generate estimand\n",
    "identified_estimand= model.identify_effect(proceed_when_unidentifiable=True)\n",
    "print(identified_estimand)"
   ]
  },
  {
   "cell_type": "markdown",
   "id": "bb15b414",
   "metadata": {},
   "source": [
    "Finally, we compute the causal effect based on the estimand. Here, we use a meta-learner [5] from the EconML library, which estimates conditional average treatment effects for discrete targets."
   ]
  },
  {
   "cell_type": "code",
   "execution_count": 6,
   "id": "313b8871",
   "metadata": {},
   "outputs": [
    {
     "name": "stderr",
     "output_type": "stream",
     "text": [
      "A column-vector y was passed when a 1d array was expected. Please change the shape of y to (n_samples, ), for example using ravel().\n"
     ]
    },
    {
     "name": "stdout",
     "output_type": "stream",
     "text": [
      "*** Causal Estimate ***\n",
      "\n",
      "## Identified estimand\n",
      "Estimand type: EstimandType.NONPARAMETRIC_ATE\n",
      "\n",
      "### Estimand : 1\n",
      "Estimand name: backdoor\n",
      "Estimand expression:\n",
      "         d                                 \n",
      "────────────────────(E[greaterThan50k|age])\n",
      "d[hasGraduateDegree]                       \n",
      "Estimand assumption 1, Unconfoundedness: If U→{hasGraduateDegree} and U→greaterThan50k then P(greaterThan50k|hasGraduateDegree,age,U) = P(greaterThan50k|hasGraduateDegree,age)\n",
      "\n",
      "## Realized estimand\n",
      "b: greaterThan50k~hasGraduateDegree+age\n",
      "Target units: ate\n",
      "\n",
      "## Estimate\n",
      "Mean value: 0.20313792614807263\n",
      "Effect estimates: [[ 0.30475576]\n",
      " [ 0.20777063]\n",
      " [ 0.36400999]\n",
      " ...\n",
      " [ 0.17522114]\n",
      " [-0.01515666]\n",
      " [ 0.20185494]]\n",
      "\n"
     ]
    }
   ],
   "source": [
    "# Compute causal effect using metalearner\n",
    "identified_estimand_experiment = model.identify_effect(proceed_when_unidentifiable=True)\n",
    "\n",
    "from sklearn.ensemble import RandomForestRegressor\n",
    "metalearner_estimate = model.estimate_effect(identified_estimand_experiment,                             method_name=\"backdoor.econml.metalearners.TLearner\",\n",
    "confidence_intervals=False,\n",
    "method_params={\n",
    "     \"init_params\":{'models': RandomForestRegressor()},\n",
    "     \"fit_params\":{}\n",
    "              })\n",
    "print(metalearner_estimate)"
   ]
  },
  {
   "cell_type": "markdown",
   "id": "909678c9",
   "metadata": {},
   "source": [
    "The average causal effect is about 0.20. This can be interpreted as having a graduate degree increases your probability of making more than $50k annually by 20%. Noting this is the average effect, it is important to consider the full distribution of values to assess whether the average is representative."
   ]
  },
  {
   "cell_type": "code",
   "execution_count": 7,
   "id": "f18851ac",
   "metadata": {},
   "outputs": [
    {
     "data": {
      "text/plain": [
       "(array([  26.,  105.,  221., 6789., 2759., 6797., 8090., 3362.,  957.,\n",
       "          64.]),\n",
       " array([-0.33322908, -0.23567849, -0.1381279 , -0.04057731,  0.05697328,\n",
       "         0.15452387,  0.25207445,  0.34962504,  0.44717563,  0.54472622,\n",
       "         0.64227681]),\n",
       " <BarContainer object of 10 artists>)"
      ]
     },
     "execution_count": 7,
     "metadata": {},
     "output_type": "execute_result"
    },
    {
     "data": {
      "image/png": "[encoded data removed]",
      "text/plain": [
       "<Figure size 640x480 with 1 Axes>"
      ]
     },
     "metadata": {},
     "output_type": "display_data"
    }
   ],
   "source": [
    "# Print histogram of causal effects\n",
    "plt.hist(metalearner_estimate.cate_estimates)"
   ]
  },
  {
   "cell_type": "markdown",
   "id": "87c318ce",
   "metadata": {},
   "source": [
    "The figure above shows the distribution of causal effects across samples. Clearly, the distribution is not Gaussian. Which tells us the mean is not representative of the overall distribution. Further analysis diving into cohorts based on causal effects may help uncover actionable information about “who” benefits most from a graduate degree.\n",
    "\n",
    "Regardless, solely basing a decision to go to grad school on potential income, may be an indication you don’t really want to go to grad school. 🤷🏽‍♀️"
   ]
  },
  {
   "cell_type": "markdown",
   "id": "7d9b9bc4",
   "metadata": {},
   "source": [
    "# Conclusion \n",
    "\n",
    "Causal inference is a powerful tool for answering natural questions that more traditional approaches may not resolve. Here I sketched some big ideas from causal inference and worked through a concrete example with code. As stated before, a causal model is the starting point for all causal inference. Usually, however, we don’t have a good causal model in hand. This is where causal discovery can be helpful, which is the topic of the next post."
   ]
  }
 ],
 "metadata": {
  "kernelspec": {
   "display_name": "base",
   "language": "python",
   "name": "python3"
  },
  "language_info": {
   "codemirror_mode": {
    "name": "ipython",
    "version": 3
   },
   "file_extension": ".py",
   "mimetype": "text/x-python",
   "name": "python",
   "nbconvert_exporter": "python",
   "pygments_lexer": "ipython3",
   "version": "3.12.7"
  }
 },
 "nbformat": 4,
 "nbformat_minor": 5
}
