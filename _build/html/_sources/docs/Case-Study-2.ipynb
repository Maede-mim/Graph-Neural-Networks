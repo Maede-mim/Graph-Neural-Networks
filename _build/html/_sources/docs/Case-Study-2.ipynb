{
 "cells": [
  {
   "cell_type": "markdown",
   "id": "b6925abb",
   "metadata": {},
   "source": [
    "![](images/fum-gnn-logo.png)\n",
    "%%HTML\n",
    "<script src=\"require.js\"></script>"
   ]
  },
  {
   "cell_type": "markdown",
   "id": "3391b45b",
   "metadata": {},
   "source": [
    "# Case-Study-2"
   ]
  },
  {
   "cell_type": "markdown",
   "id": "7b786e61",
   "metadata": {},
   "source": [
    "# Device-Cloud Collaborative-Learning-for-Graph-Neural-Networks"
   ]
  }
 ],
 "metadata": {
  "kernelspec": {
   "display_name": "base",
   "language": "python",
   "name": "python3"
  },
  "language_info": {
   "name": "python",
   "version": "3.12.7"
  }
 },
 "nbformat": 4,
 "nbformat_minor": 5
}
