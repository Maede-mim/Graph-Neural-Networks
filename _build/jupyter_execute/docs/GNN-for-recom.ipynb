{
 "cells": [
  {
   "cell_type": "markdown",
   "id": "0b2723d8",
   "metadata": {},
   "source": [
    "![](images/fum-gnn-logo.png)\n",
    "%%HTML\n",
    "<script src=\"require.js\"></script>"
   ]
  },
  {
   "cell_type": "markdown",
   "id": "b708d7ca",
   "metadata": {},
   "source": [
    "# **Graph Neural Networks for Recommender System**"
   ]
  },
  {
   "cell_type": "markdown",
   "id": "6cba5476",
   "metadata": {},
   "source": [
    "recommender systems have a lot of\n",
    "applications from e-commerce like amazon\n",
    "recommending suitable products to social\n",
    "media platforms like pinterest or\n",
    "instagram and also entertainment such as\n",
    "netflix movies spotify music"
   ]
  },
  {
   "cell_type": "markdown",
   "id": "3f0f30cf",
   "metadata": {},
   "source": [
    "![](images/social-media.png)\n",
    "%%HTML\n",
    "<script src=\"require.js\"></script>"
   ]
  },
  {
   "cell_type": "markdown",
   "id": "4e82b5cd",
   "metadata": {},
   "source": [
    "the main motivation for recommenders is\n",
    "to reduce the huge amount of items to a\n",
    "small tangible subset\n",
    "\n",
    "people nowadays\n",
    "are overloaded with content and with\n",
    "these systems we can filter out the\n",
    "relevant items and also discover new\n",
    "things that might be interesting"
   ]
  },
  {
   "cell_type": "markdown",
   "id": "e4179b4c",
   "metadata": {},
   "source": [
    "## classical approaches for recommender systems"
   ]
  },
  {
   "cell_type": "markdown",
   "id": "d7261e7a",
   "metadata": {},
   "source": [
    "content-based filtering and\n",
    "collaborative filtering content-based\n",
    "filtering uses the similarities between\n",
    "items to recommend items that the user might like\n",
    "\n",
    "for example if you watch the first part\n",
    "of harry potter a likely recommendation\n",
    "would be the second part\n",
    "similarities can be calculated based on\n",
    "all sorts of item features such as name"
   ]
  },
  {
   "cell_type": "markdown",
   "id": "63b28921",
   "metadata": {},
   "source": [
    "![](images/coll-con.png)\n",
    "%%HTML\n",
    "<script src=\"require.js\"></script>"
   ]
  },
  {
   "cell_type": "markdown",
   "id": "d9d90dbf",
   "metadata": {},
   "source": [
    "content type or producer collaborative\n",
    "filtering on the other hand uses the\n",
    "similarities between the user\n",
    "to filter out elements that can be\n",
    "recommended"
   ]
  },
  {
   "cell_type": "markdown",
   "id": "571681e8",
   "metadata": {},
   "source": [
    "## *collaborative filtering*\n",
    "\n",
    "is a technique used in recommender systems to predict a user's preferences based on the preferences of similar users or items. It leverages historical user interactions, such as ratings, clicks, or purchases, to make personalized recommendations.\n",
    "\n",
    "\n",
    "\n",
    "collaborative filtering is often modeled\n",
    "as a matrix completion problem that can\n",
    "be visualized in such a grid\n",
    "\n",
    "the values in the grid represent ratings\n",
    "from users for specific items and"
   ]
  },
  {
   "cell_type": "markdown",
   "id": "a9375b6d",
   "metadata": {},
   "source": [
    "![](images/grid-table.png)\n",
    "%%HTML\n",
    "<script src=\"require.js\"></script>"
   ]
  },
  {
   "cell_type": "markdown",
   "id": "ad907efc",
   "metadata": {},
   "source": [
    "obviously we don't have that for all the\n",
    "items that's why the task is to fill up\n",
    "the missing cells a very popular method\n",
    "to fill up these cells is called matrix\n",
    "\n",
    "to fill up these cells is called matrix\n",
    "factorization\n",
    "it maps the users and items to\n",
    "embeddings\n",
    "that are arranged in the same embedding\n",
    "space\n",
    "\n",
    "these are also called latent factors and\n",
    "the whole thing is then called latent\n",
    "factor model\n",
    "\n",
    "so here you can see that every user and\n",
    "item has a bar next to it which which\n",
    "represents a learned embedding vector that represents the user or item\n",
    "characteristics this vector can contain\n",
    "obvious features but also totally\n",
    "uninterpretable values"
   ]
  },
  {
   "cell_type": "markdown",
   "id": "7afa4942",
   "metadata": {},
   "source": [
    "![](images/bar.png)\n",
    "%%HTML\n",
    "<script src=\"require.js\"></script>"
   ]
  },
  {
   "cell_type": "markdown",
   "id": "6aa28d02",
   "metadata": {},
   "source": [
    "in order to map the latent codes into\n",
    "the same embedding space a dot product\n",
    "between the user vectors and the item\n",
    "vectors is used as similarity measure\n",
    "for this the item matrix is transposed"
   ]
  },
  {
   "cell_type": "markdown",
   "id": "cec10997",
   "metadata": {},
   "source": [
    "![](images/U-I-tabel.png)\n",
    "%%HTML\n",
    "<script src=\"require.js\"></script>"
   ]
  },
  {
   "cell_type": "markdown",
   "id": "13207bc4",
   "metadata": {},
   "source": [
    "so that the shapes match this dot\n",
    "product generates the predicted matrix\n",
    "on which high values indicate that a\n",
    "user item combination matches and low\n",
    "values that we should better not"
   ]
  },
  {
   "cell_type": "markdown",
   "id": "d69ce83d",
   "metadata": {},
   "source": [
    "recommend this item\n",
    "formerly this predicted rating matrix\n",
    "can be expressed like this\n",
    "this means we are decomposing the matrix\n",
    "r into the product of two lower ranked\n",
    "matrices we initialize the latent code\n",
    "somehow for example randomly and because\n",
    "we have the true ratings for some of\n",
    "these cells we can very easily optimize\n",
    "the latent codes with respect to some\n",
    "loss functions such as mean squared\n",
    "error"
   ]
  },
  {
   "cell_type": "markdown",
   "id": "ae42fbe8",
   "metadata": {},
   "source": [
    "$\n",
    "\\hat{R} \\approx U \\cdot I^T\n",
    "$"
   ]
  },
  {
   "cell_type": "markdown",
   "id": "da96e482",
   "metadata": {},
   "source": [
    "this matrix factorization idea has many\n",
    "extensions such as considering user\n",
    "biases for the ratings including\n",
    "additional features or also considering\n",
    "temporal effects\n",
    "when you think about it we decompose the\n",
    "values of this matrix in such a way so\n",
    "that each of the latent factors contains\n",
    "typical characteristics of that product\n",
    "or item and this is already some sort of\n",
    "representation learning however this is\n",
    "based on a matrix today we want to have\n",
    "a look at how we can model this as a\n",
    "graph representation task"
   ]
  },
  {
   "cell_type": "markdown",
   "id": "3470729f",
   "metadata": {},
   "source": [
    "![](images/matrix-factorization.png)\n",
    "%%HTML\n",
    "<script src=\"require.js\"></script>"
   ]
  },
  {
   "cell_type": "markdown",
   "id": "755fe1f4",
   "metadata": {},
   "source": [
    "when you think about it we decompose the\n",
    "values of this matrix in such a way so\n",
    "that each of the latent factors contains\n",
    "typical characteristics of that product\n",
    "or item and this is already some sort of\n",
    "representation learning however this is\n",
    "based on a matrix today we want to have\n",
    "a look at how we can model this as a\n",
    "graph representation task"
   ]
  },
  {
   "cell_type": "markdown",
   "id": "fd8583c3",
   "metadata": {},
   "source": [
    "## model graph representation task"
   ]
  },
  {
   "cell_type": "markdown",
   "id": "8d6966ca",
   "metadata": {},
   "source": [
    "this matrix can quite easily be\n",
    "represented as a graph and not any type\n",
    "of graph but a bipartite graph\n",
    "so this is simply a graph that consists\n",
    "of two sets one user set and then an\n",
    "item set and then you have connections\n",
    "between these different nodes\n",
    "\n",
    "this\n",
    "is the most common form of modeling\n",
    "graph based recommender systems in a few\n",
    "minutes we will also see some\n",
    "alternative ways how we can arrange this\n",
    "graph"
   ]
  },
  {
   "cell_type": "markdown",
   "id": "e67c56e0",
   "metadata": {},
   "source": [
    "![](images/grah-recom.png)\n",
    "%%HTML\n",
    "<script src=\"require.js\"></script>"
   ]
  },
  {
   "cell_type": "markdown",
   "id": "e3e5a28e",
   "metadata": {},
   "source": [
    "in this most basic form a connection\n",
    "between a user and item simply means\n",
    "that the user has interacted with this\n",
    "item in some way if available we can\n",
    "also extend the edge information with an\n",
    "edge weight that corresponds to the\n",
    "rating\n",
    "from this point it's very easy to build\n",
    "a graph neural network that performs\n",
    "link prediction which means it predicts\n",
    "which user and items match with the\n",
    "highest probability\n",
    "\n",
    "one immediate advantage of gnns compared\n",
    "to matrix factorization is that they are\n",
    "able to aggregate multi-hop\n",
    "neighborhoods whereas matrix\n",
    "representations typically only account\n",
    "for direct connections"
   ]
  },
  {
   "cell_type": "markdown",
   "id": "0285a162",
   "metadata": {},
   "source": [
    "## Litrature / Graph Convolutional  Matrix completion\n"
   ]
  },
  {
   "cell_type": "markdown",
   "id": "4aefb69a",
   "metadata": {},
   "source": [
    "one of the earlier works using gnns\n",
    "comes from fondenberg kipf and welling\n",
    "and is called graph convolutional matrix completion"
   ]
  },
  {
   "cell_type": "markdown",
   "id": "11e05f05",
   "metadata": {},
   "source": [
    "![](images/welling.png)\n",
    "%%HTML\n",
    "<script src=\"require.js\"></script>"
   ]
  },
  {
   "cell_type": "markdown",
   "id": "de23b5e9",
   "metadata": {},
   "source": [
    "### Rating matrix M :\n",
    "the rating matrix on the left is\n",
    "converted into a bipartite graph and the\n",
    "edges are enriched with the rating\n",
    "scores\n",
    "\n",
    "each user and item is represented by a\n",
    "feature vector"
   ]
  },
  {
   "cell_type": "markdown",
   "id": "9c60b175",
   "metadata": {},
   "source": [
    "### Graph Auto-Encoder :\n",
    "the heart of the model is a graph auto\n",
    "encoder which has a task to compress the\n",
    "edge information in such a way that it\n",
    "is possible to reconstruct it from the\n",
    "compressed representation\n",
    "\n",
    "in order to learn a representation for\n",
    "each user and item these layers also\n",
    "consider the different rating types are and apply different transformations per\n",
    "type"
   ]
  },
  {
   "cell_type": "markdown",
   "id": "00f7b86d",
   "metadata": {},
   "source": [
    "### Link prediction :\n",
    " link prediction is performed based\n",
    "on the final item and user embeddings\n",
    "as a formula this can be expressed like\n",
    "this which means the users are\n",
    "multiplied with items and a learnable\n",
    "transformation queue is applied\n",
    "finally softmax is used to predict\n",
    "probabilities for the different edge"
   ]
  },
  {
   "cell_type": "markdown",
   "id": "8fe7d823",
   "metadata": {},
   "source": [
    "![](images/formula.png)\n",
    "%%HTML\n",
    "<script src=\"require.js\"></script>"
   ]
  },
  {
   "cell_type": "markdown",
   "id": "8d9b8faa",
   "metadata": {},
   "source": [
    "## Litrature / pinSAGE\n"
   ]
  },
  {
   "cell_type": "markdown",
   "id": "47a621aa",
   "metadata": {},
   "source": [
    "another gnn based recommender model is\n",
    "called pinsage and was developed by\n",
    "researchers from pinterest and stanford\n",
    "university\n",
    "\n",
    "on pinterest the users can have boards\n",
    "on which they pin items they are\n",
    "interested in such as images recipes\n",
    "clothes and more\n",
    "of course these items can be shared\n",
    "among the boards and modeled as a graph\n",
    "\n",
    "![](images/pinsage.png)\n",
    "%%HTML\n",
    "<script src=\"require.js\"></script>\n",
    "\n",
    "the only issue is that they have really\n",
    "a lot of items available which makes\n",
    "this graph too big to fit into the gpu\n",
    "memory in fact their data set has 18\n",
    "billion edges and 3 billion nodes\n",
    "\n",
    "pin sage is a scalable gnn model that\n",
    "can handle such big graphs by sampling a\n",
    "neighborhood around a node\n",
    "this allows the model to train on a\n",
    "subset of the nodes but generate\n",
    "embeddings even for unseen data\n",
    "\n",
    "overall this idea is based on graph sage\n",
    "which also uses sampling to make the\n",
    "learning process inductive"
   ]
  },
  {
   "cell_type": "markdown",
   "id": "cb858ce1",
   "metadata": {},
   "source": [
    "![](images/pinsage-1.png)\n",
    "%%HTML\n",
    "<script src=\"require.js\"></script>"
   ]
  },
  {
   "cell_type": "markdown",
   "id": "7c18fad4",
   "metadata": {},
   "source": [
    "the difference is however that the\n",
    "sampling is based on random walks or\n",
    "more specifically the visit count of\n",
    "random walks\n",
    "which assesses the importance of\n",
    "specific nodes\n",
    "and this means the size of the\n",
    "neighborhood can be reduced\n",
    "significantly \n",
    "\n",
    "they also propose some parallelization\n",
    "patterns that can speed up the training"
   ]
  },
  {
   "cell_type": "markdown",
   "id": "0fe07dff",
   "metadata": {},
   "source": [
    "#### you might have asked yourself how the nodes are represented in this graph what what do we use as node features ????"
   ]
  },
  {
   "cell_type": "markdown",
   "id": "213abcb4",
   "metadata": {},
   "source": [
    "we can't\n",
    "simply use an image or a text we need to\n",
    "compress it somehow\n",
    "and the images were converted into\n",
    "embeddings using a vgg16 cnn model\n",
    "and all of the text was converted with a\n",
    "Word to Wait Model"
   ]
  },
  {
   "cell_type": "markdown",
   "id": "dec82817",
   "metadata": {},
   "source": [
    "![](images/VGG16.png)\n",
    "%%HTML\n",
    "<script src=\"require.js\"></script>"
   ]
  },
  {
   "cell_type": "markdown",
   "id": "ddda4cd8",
   "metadata": {},
   "source": [
    "as a result each node could be\n",
    "represented by a combined vector of\n",
    "visual and textual information\n",
    "\n",
    "![](images/emmbed-pin2.png)\n",
    "%%HTML\n",
    "<script src=\"require.js\"></script>\n",
    "\n",
    "in the end this model produces\n",
    "embeddings in a joint embedding space\n",
    "which can be used to find their nearest\n",
    "neighbor in order to recommend related\n",
    "pins \n",
    "\n",
    "![](images/moble-2.png)\n",
    "%%HTML\n",
    "<script src=\"require.js\"></script>"
   ]
  },
  {
   "cell_type": "markdown",
   "id": "4470c846",
   "metadata": {},
   "source": [
    "## sequential recommenders as graph"
   ]
  },
  {
   "cell_type": "markdown",
   "id": "dfbc7681",
   "metadata": {},
   "source": [
    "a typical scenario is the following a\n",
    "user buys a sequence of items first a\n",
    "table then a monitor and a keyboard and\n",
    "finally some headphones"
   ]
  },
  {
   "cell_type": "markdown",
   "id": "df3efd89",
   "metadata": {},
   "source": [
    "![](images/purches.png)\n",
    "%%HTML\n",
    "<script src=\"require.js\"></script>"
   ]
  },
  {
   "cell_type": "markdown",
   "id": "2f70bdd6",
   "metadata": {},
   "source": [
    "based on this purchase history what\n",
    "might be the next item\n",
    "it seems like he's building a home\n",
    "office setup and therefore an office\n",
    "chair is probably a good recommendation\n"
   ]
  },
  {
   "cell_type": "markdown",
   "id": "8aaa84eb",
   "metadata": {},
   "source": [
    "![](images/purches2.png)\n",
    "%%HTML\n",
    "<script src=\"require.js\"></script>"
   ]
  },
  {
   "cell_type": "markdown",
   "id": "944d2342",
   "metadata": {},
   "source": [
    "this can also be based on the purchase\n",
    "history of other users that might have\n",
    "already bought this item\n",
    "\n",
    "now how do you model this setup as a\n",
    "graph representation learning task\n",
    "\n",
    "a recently published paper called\n",
    "dynamic gnns for a sequential\n",
    "recommendation uses temporal gnns to\n",
    "learn spatial and temporal embeddings"
   ]
  },
  {
   "cell_type": "markdown",
   "id": "e6d370ea",
   "metadata": {},
   "source": [
    "![](images/seq.png)\n",
    "%%HTML\n",
    "<script src=\"require.js\"></script>"
   ]
  },
  {
   "cell_type": "markdown",
   "id": "6387f442",
   "metadata": {},
   "source": [
    "the first step is to convert these item\n",
    "sequences per user into a graph\n",
    "representation\n",
    "\n",
    "this is done by building\n",
    "a dynamic graph\n",
    "\n",
    "\n",
    "between the items and users depend on\n",
    "the time step\n",
    "when we look at the specific time step t\n",
    "in this case t2 the graph snapshot might\n",
    "look like this"
   ]
  },
  {
   "cell_type": "markdown",
   "id": "5e699840",
   "metadata": {},
   "source": [
    "![](images/seq2.png)\n",
    "%%HTML\n",
    "<script src=\"require.js\"></script>"
   ]
  },
  {
   "cell_type": "markdown",
   "id": "44e0bed5",
   "metadata": {},
   "source": [
    "we have three\n",
    "interactions from each of the users and\n",
    "only the edges of the current and past\n",
    "\n",
    "interactions are part of this graph\n",
    "other items and users can also be part\n",
    "of the graph but are maybe not connected\n",
    "\n",
    "the task is then to predict which item a\n",
    "user is connected to next\n",
    "\n",
    "![](images/seq1.png)\n",
    "%%HTML\n",
    "<script src=\"require.js\"></script>\n",
    "\n",
    "users u items i a time step t and\n",
    "additionally information about the\n",
    "ordering of the interactions this is\n",
    "simply a counter that tells us how many\n",
    "interactions a user or item already has\n",
    "this allows the model to also learn\n",
    "sequential information so overall this\n",
    "is also just a bipartite graph but just\n",
    "with an additional temporal dimension\n",
    "and additionally we have this ordering\n",
    "information\n",
    "two time steps later the graph might\n",
    "look like this\n",
    "![](images/ui.png)\n",
    "%%HTML\n",
    "<script src=\"require.js\"></script>\n",
    "as you can imagine this graph would\n",
    "explode over time as it just keeps\n",
    "growing because of that the authors only\n",
    "sample the most recent interactions"
   ]
  }
 ],
 "metadata": {
  "kernelspec": {
   "display_name": "base",
   "language": "python",
   "name": "python3"
  },
  "language_info": {
   "codemirror_mode": {
    "name": "ipython",
    "version": 3
   },
   "file_extension": ".py",
   "mimetype": "text/x-python",
   "name": "python",
   "nbconvert_exporter": "python",
   "pygments_lexer": "ipython3",
   "version": "3.11.8"
  }
 },
 "nbformat": 4,
 "nbformat_minor": 5
}