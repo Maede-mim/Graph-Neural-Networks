{
 "cells": [
  {
   "cell_type": "markdown",
   "id": "b6925abb",
   "metadata": {},
   "source": [
    "![](images/fum-gnn-logo.png)\n",
    "%%HTML\n",
    "<script src=\"require.js\"></script>"
   ]
  },
  {
   "cell_type": "markdown",
   "id": "3391b45b",
   "metadata": {},
   "source": [
    "# Case-Study-2"
   ]
  },
  {
   "cell_type": "markdown",
   "id": "7b786e61",
   "metadata": {},
   "source": [
    "# Device-Cloud Collaborative-Learning-for-Graph-Neural-Networks"
   ]
  }
 ],
 "metadata": {
  "kernelspec": {
   "display_name": "base",
   "language": "python",
   "name": "python3"
  },
  "language_info": {
   "codemirror_mode": {
    "name": "ipython",
    "version": 3
   },
   "file_extension": ".py",
   "mimetype": "text/x-python",
   "name": "python",
   "nbconvert_exporter": "python",
   "pygments_lexer": "ipython3",
   "version": "3.11.8"
  }
 },
 "nbformat": 4,
 "nbformat_minor": 5
}