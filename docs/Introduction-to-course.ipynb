{
 "cells": [
  {
   "cell_type": "markdown",
   "id": "5a469769",
   "metadata": {},
   "source": [
    "![](images/fum-gnn-logo.png)\n",
    "%%HTML\n",
    "<script src=\"require.js\"></script>"
   ]
  },
  {
   "cell_type": "markdown",
   "id": "c06d6a20",
   "metadata": {},
   "source": [
    "# Introduction to the Course\n",
    "\n",
    "**Maede Mohammadi, Spring 2025**\n",
    "\n",
    "Computer Science Dept, Ferdowsi University of Mashhad\n",
    "\n",
    "I should mention that the original material was from  [Graph Neural Networks](https://www.googleadservices.com/pagead/aclk?sa=L&ai=DChcSEwiV84bN48qNAxVRllAGHVQAJfsYABAJGgJkZw&co=1&gclid=CjwKCAjwruXBBhArEiwACBRtHeyFH0UC2rvfD1OkM2ytFY2ce8Fho4phYDdbnbhH5tKMSuqU9J_3WBoCrbwQAvD_BwE&ohost=www.google.com&cid=CAESV-D2GmljXoEaJfkleWD8KpQTd7_gJNvs9vzFkxYpR1NCSJLjm4GSFkIMNilpwrDi-JqHtxSN_EhTvRhKCArSi_ZLw3DJfN5b02YW1MdwnJRRouK8j8HL5w&category=acrcp_v1_40&sig=AOD64_2bu5d1UO_2F8yAlorYZWf509E2oA&ctype=5&q=&ved=2ahUKEwitvoHN48qNAxXmZ0EAHSCWOywQ9aACKAB6BAgIEBM&adurl=).\n",
    "\n",
    "![](images/Book.png)\n",
    "%%HTML\n",
    "<script src=\"require.js\"></script>\n"
   ]
  },
  {
   "cell_type": "markdown",
   "id": "2e9dbcc3",
   "metadata": {},
   "source": [
    "## About the Course\n",
    "<hr>"
   ]
  },
  {
   "cell_type": "markdown",
   "id": "46efd9c2",
   "metadata": {},
   "source": [
    "- **Lectures 1-2**: prerequesties that you need about graph ( graph,nodes,Vertex set,Edge set,DAGs)\n",
    "- **Lectures 3-5**: review two case study and learn about using gnns in recommender system (Introduction, score function, optimization, etc.)\n",
    "\n",
    "This course will provide a strong foundation in causality, focusing on understanding how variables influence each other through directed graphs. You'll learn to interpret, construct, and apply causal graphs for effective causal inference and causal structure learning from data. \n",
    "\n",
    "<!-- We will progressively build our computational intelligence skills from understanding optimization algorithms like gradient descent, to building convolutional neural networks for image classification, and even creating generative adversarial networks (GANs) for synthetic image generation! This course will also lay the foundation for the more advanced topics you'll be exploring in DSCI 575 (Advanced Machine Learning), like recurrent neural networks. -->\n",
    "\n",
    "Along the way, I'll include and reference additional material in appendices that dive into some topics in more detail. These are **completely optional** and are there for those who wish to learn more about a particular topic."
   ]
  },
  {
   "cell_type": "markdown",
   "id": "e8e464d6",
   "metadata": {},
   "source": [
    "### Course Tools"
   ]
  },
  {
   "cell_type": "markdown",
   "id": "bc6f58ac",
   "metadata": {},
   "source": [
    "The course will use Python and [PyTorch](https://pytorch.org/) as the deep learning software. Course material will be predominantly in Jupyter notebooks. Everything has been compiled into a Jupyter book and the materials are accesible from the [Github of the course](https://github.com/fum-cs/neural-networks).\n",
    "\n",
    "<!-- You can install all the software you need for the course using conda:\n",
    "\n",
    "```sh\n",
    "conda env create -f mds572.yaml\n",
    "``` -->"
   ]
  },
  {
   "cell_type": "markdown",
   "id": "e08f89dc",
   "metadata": {},
   "source": []
  }
 ],
 "metadata": {
  "language_info": {
   "name": "python"
  }
 },
 "nbformat": 4,
 "nbformat_minor": 5
}
